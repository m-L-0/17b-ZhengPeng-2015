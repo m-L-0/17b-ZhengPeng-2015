{
 "cells": [
  {
   "cell_type": "code",
   "execution_count": null,
   "metadata": {},
   "outputs": [],
   "source": [
    "import tensorflow as tf\n",
    "import numpy as np\n",
    "from keras.utils import to_categorical\n",
    "import sys\n",
    "\n",
    "\n",
    "def tfrecord2array(path_res):\n",
    "    imgs = []\n",
    "    lbls = []\n",
    "    # print('tfrecords_files to be transformed:', path_res)\n",
    "    reader = tf.TFRecordReader()\n",
    "\n",
    "    filename_queue = tf.train.string_input_producer([path_res], num_epochs=1)\n",
    "\n",
    "    # 从 TFRecord 读取内容并保存到 serialized_example 中\n",
    "    _, serialized_example = reader.read(filename_queue)\n",
    "    # 读取 serialized_example 的格式\n",
    "    features = tf.parse_single_example(\n",
    "        serialized_example,\n",
    "        features={\n",
    "            'image_raw': tf.FixedLenFeature([], tf.string),\n",
    "            'label': tf.FixedLenFeature([], tf.int64),\n",
    "        })\n",
    "\n",
    "    # 解析从 serialized_example 读取到的内容\n",
    "    labels = tf.cast(features['label'], tf.int64)\n",
    "    images = tf.decode_raw(features['image_raw'], tf.uint8)\n",
    "\n",
    "    # print('Extracting {} has just started.'.format(path_res))\n",
    "    with tf.Session() as sess:\n",
    "        # 启动多线程\n",
    "        sess.run(tf.local_variables_initializer())\n",
    "        coord = tf.train.Coordinator()\n",
    "        threads = tf.train.start_queue_runners(sess=sess, coord=coord)\n",
    "        while not coord.should_stop():\n",
    "            try:\n",
    "                label, img = sess.run([labels, images])\n",
    "            except tf.errors.OutOfRangeError:\n",
    "                print(\"Turn to next folder.\")\n",
    "                break\n",
    "            img = (img > 0).astype(np.uint8).reshape(-1)\n",
    "            imgs.append(img)\n",
    "            lbls.append(label)\n",
    "            clock_lines = ['-', '\\\\', '|', '/']\n",
    "\n",
    "            sys.stdout.write(\n",
    "                ''.join((str(np.array(lbls).shape[0]),\n",
    "                         \"-th sample in \",\n",
    "                         path_res.split('/')[-2],\n",
    "                         clock_lines[np.array(lbls).shape[0]//100 % 4],\n",
    "                         '\\r')))\n",
    "            sys.stdout.flush()\n",
    "\n",
    "        coord.request_stop()\n",
    "        coord.join(threads)\n",
    "    return to_categorical(np.array(lbls), num_classes=68), np.array(imgs)\n",
    "\n",
    "\n",
    "def main():\n",
    "    imgs, labels = tfrecord2array(\n",
    "        r\"./data_tfrecords/integers_tfrecords/test.tfrecords\")\n",
    "    print(\"imgs.shape:\", imgs.shape)\n",
    "    print(\"labels.shape:\", labels.shape)"
   ]
  },
  {
   "cell_type": "code",
   "execution_count": null,
   "metadata": {},
   "outputs": [],
   "source": [
    "if __name__ == '__main__':\n",
    "    main()"
   ]
  }
 ],
 "metadata": {
  "kernelspec": {
   "display_name": "Python 3",
   "language": "python",
   "name": "python3"
  },
  "language_info": {
   "codemirror_mode": {
    "name": "ipython",
    "version": 3
   },
   "file_extension": ".py",
   "mimetype": "text/x-python",
   "name": "python",
   "nbconvert_exporter": "python",
   "pygments_lexer": "ipython3",
   "version": "3.5.2"
  }
 },
 "nbformat": 4,
 "nbformat_minor": 2
}
