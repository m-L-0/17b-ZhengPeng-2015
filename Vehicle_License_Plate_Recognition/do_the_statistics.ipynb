{
 "cells": [
  {
   "cell_type": "code",
   "execution_count": null,
   "metadata": {},
   "outputs": [],
   "source": [
    "import matplotlib.pyplot as plt\n",
    "import os\n",
    "\n",
    "\n",
    "# plt.rcParams['font.sans-serif'] = ['SimHei']  # 用来正常显示中文标签\n",
    "# plt.rcParams['axes.unicode_minus'] = False  # 用来正常显示负号\n",
    "\n",
    "\n",
    "def do_the_statistics(path_dir):\n",
    "    dir_lst = os.listdir(path_dir)\n",
    "    counter = {}\n",
    "    for i in dir_lst:\n",
    "        counter[i] = len(os.listdir(path_dir+i))\n",
    "    fig, ax = plt.subplots()\n",
    "    ax.bar(counter.keys(), counter.values())\n",
    "    ax.set_xlabel('Sample Labels')\n",
    "    ax.set_ylabel('Quantities')\n",
    "    ax.set_title(r'Samples\\' distributions in {}'.format(path_dir))\n",
    "    fig.tight_layout()\n",
    "    plt.show()"
   ]
  },
  {
   "cell_type": "code",
   "execution_count": null,
   "metadata": {},
   "outputs": [],
   "source": [
    "if __name__ == \"__main__\":\n",
    "    PATH_DIRS = [\n",
    "        r\"./data/alphabets/\",\n",
    "        r\"./data/Chinese_letters/\",\n",
    "        r\"./data/integers/\"\n",
    "    ]\n",
    "    for path_dir in PATH_DIRS:\n",
    "        do_the_statistics(path_dir)"
   ]
  }
 ],
 "metadata": {
  "kernelspec": {
   "display_name": "Python 3",
   "language": "python",
   "name": "python3"
  },
  "language_info": {
   "codemirror_mode": {
    "name": "ipython",
    "version": 3
   },
   "file_extension": ".py",
   "mimetype": "text/x-python",
   "name": "python",
   "nbconvert_exporter": "python",
   "pygments_lexer": "ipython3",
   "version": "3.5.2"
  }
 },
 "nbformat": 4,
 "nbformat_minor": 2
}
