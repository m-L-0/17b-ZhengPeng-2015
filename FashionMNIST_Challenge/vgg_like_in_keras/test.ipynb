{
 "cells": [
  {
   "cell_type": "code",
   "execution_count": 1,
   "metadata": {},
   "outputs": [
    {
     "name": "stdout",
     "output_type": "stream",
     "text": [
      "fashion-mnist_test.csv\n",
      "fashion-mnist_train.csv.tar.gz\n",
      "\n"
     ]
    }
   ],
   "source": [
    "import numpy as np # linear algebra\n",
    "import pandas as pd # data processing, CSV file I/O (e.g. pd.read_csv)\n",
    "from subprocess import check_output\n",
    "print(check_output([\"ls\", \"../MNIST_data/fashion_csv/\"]).decode(\"utf8\"))"
   ]
  },
  {
   "cell_type": "code",
   "execution_count": 2,
   "metadata": {},
   "outputs": [
    {
     "name": "stderr",
     "output_type": "stream",
     "text": [
      "Using TensorFlow backend.\n"
     ]
    },
    {
     "name": "stdout",
     "output_type": "stream",
     "text": [
      "Extracting ../MNIST_data/fashion/train-images-idx3-ubyte.gz\n",
      "Extracting ../MNIST_data/fashion/train-labels-idx1-ubyte.gz\n",
      "Extracting ../MNIST_data/fashion/t10k-images-idx3-ubyte.gz\n",
      "Extracting ../MNIST_data/fashion/t10k-labels-idx1-ubyte.gz\n"
     ]
    }
   ],
   "source": [
    "from keras.utils import to_categorical\n",
    "import gzip\n",
    "import pandas as pd\n",
    "import os\n",
    "\n",
    "\n",
    "# 完整的csv格式的训练集太大, 无法上传至github, 因此保存压缩文件, 在此解压缩并写入同名csv.\n",
    "train_file = gzip.GzipFile(\"../MNIST_data/fashion_csv/fashion-mnist_train.csv.tar.gz\", \"r\")\n",
    "with open(\"../MNIST_data/fashion_csv/fashion-mnist_train.csv\", 'wb') as f:\n",
    "    f.write(train_file.read())\n",
    "data_train = pd.read_csv('../MNIST_data/fashion_csv/fashion-mnist_train.csv')\n",
    "data_train = data_train.drop(index=len(data_train.iloc[:, 0])-1) # 不知为什么, 最后一行全为nan, 因此删去末行.\n",
    "os.remove('../MNIST_data/fashion_csv/fashion-mnist_train.csv')\n",
    "data_test = pd.read_csv('../MNIST_data/fashion_csv/fashion-mnist_test.csv')\n",
    "\n",
    "# from tensorflow.examples.tutorials.mnist import input_data\n",
    "# mnist = input_data.read_data_sets(\"../MNIST_data/fashion/\", one_hot=True)\n",
    "# X_train, y_train = mnist.train.images, mnist.train.labels\n",
    "# X_test, y_test = mnist.test.images, mnist.test.labels"
   ]
  },
  {
   "cell_type": "code",
   "execution_count": 3,
   "metadata": {},
   "outputs": [],
   "source": [
    "X_train = np.array(data_train.iloc[:, 1:])\n",
    "X_test = np.array(data_test.iloc[:, 1:])\n",
    "y_train = to_categorical(np.array(data_train.iloc[:, 0]))\n",
    "y_test = to_categorical(np.array(data_test.iloc[:, 0]))\n",
    "\n",
    "\n",
    "img_rows, img_cols = 28, 28\n",
    "X_train = X_train.reshape(X_train.shape[0], img_rows, img_cols, 1)\n",
    "X_test = X_test.reshape(X_test.shape[0], img_rows, img_cols, 1)\n",
    "input_shape = (img_rows, img_cols, 1)\n",
    "\n",
    "X_train = X_train.astype('float32')\n",
    "X_test = X_test.astype('float32')\n",
    "X_train /= 255\n",
    "X_test /= 255"
   ]
  },
  {
   "cell_type": "code",
   "execution_count": 4,
   "metadata": {},
   "outputs": [],
   "source": [
    "from keras.models import Sequential\n",
    "from keras.layers import Dense, Activation, Dropout, Flatten, Conv2D, MaxPooling2D\n",
    "\n",
    "input_shape = (img_rows, img_cols, 1)\n",
    "model = Sequential()\n",
    "model.add(Conv2D(32, kernel_size=(3, 3),\n",
    "                 activation='relu',\n",
    "                 input_shape=input_shape))\n",
    "model.add(MaxPooling2D(pool_size=(2, 2)))\n",
    "model.add(Dropout(0.25))\n",
    "model.add(Conv2D(64, (3, 3), activation='relu'))\n",
    "model.add(MaxPooling2D(pool_size=(2, 2)))\n",
    "model.add(Dropout(0.25))\n",
    "model.add(Flatten())\n",
    "model.add(Dense(250, activation='relu'))\n",
    "model.add(Dropout(0.5))\n",
    "model.add(Dense(10, activation='softmax'))\n",
    "model.compile(optimizer='adam',\n",
    "          loss='categorical_crossentropy',\n",
    "          metrics=['accuracy'])"
   ]
  },
  {
   "cell_type": "code",
   "execution_count": 5,
   "metadata": {},
   "outputs": [
    {
     "name": "stdout",
     "output_type": "stream",
     "text": [
      "_________________________________________________________________\n",
      "Layer (type)                 Output Shape              Param #   \n",
      "=================================================================\n",
      "conv2d_1 (Conv2D)            (None, 26, 26, 32)        320       \n",
      "_________________________________________________________________\n",
      "max_pooling2d_1 (MaxPooling2 (None, 13, 13, 32)        0         \n",
      "_________________________________________________________________\n",
      "dropout_1 (Dropout)          (None, 13, 13, 32)        0         \n",
      "_________________________________________________________________\n",
      "conv2d_2 (Conv2D)            (None, 11, 11, 64)        18496     \n",
      "_________________________________________________________________\n",
      "max_pooling2d_2 (MaxPooling2 (None, 5, 5, 64)          0         \n",
      "_________________________________________________________________\n",
      "dropout_2 (Dropout)          (None, 5, 5, 64)          0         \n",
      "_________________________________________________________________\n",
      "flatten_1 (Flatten)          (None, 1600)              0         \n",
      "_________________________________________________________________\n",
      "dense_1 (Dense)              (None, 250)               400250    \n",
      "_________________________________________________________________\n",
      "dropout_3 (Dropout)          (None, 250)               0         \n",
      "_________________________________________________________________\n",
      "dense_2 (Dense)              (None, 10)                2510      \n",
      "=================================================================\n",
      "Total params: 421,576\n",
      "Trainable params: 421,576\n",
      "Non-trainable params: 0\n",
      "_________________________________________________________________\n"
     ]
    }
   ],
   "source": [
    "model.summary()"
   ]
  },
  {
   "cell_type": "code",
   "execution_count": 6,
   "metadata": {},
   "outputs": [
    {
     "name": "stdout",
     "output_type": "stream",
     "text": [
      "Train on 55000 samples, validate on 10000 samples\n",
      "Epoch 1/10\n",
      "55000/55000 [==============================] - 64s 1ms/step - loss: 1.0891 - acc: 0.5894 - val_loss: 0.7341 - val_acc: 0.7265\n",
      "Epoch 2/10\n",
      "55000/55000 [==============================] - 32s 586us/step - loss: 0.7644 - acc: 0.7101 - val_loss: 0.6495 - val_acc: 0.7517\n",
      "Epoch 3/10\n",
      "55000/55000 [==============================] - 32s 584us/step - loss: 0.6842 - acc: 0.7365 - val_loss: 0.5881 - val_acc: 0.7738\n",
      "Epoch 4/10\n",
      "55000/55000 [==============================] - 32s 582us/step - loss: 0.6401 - acc: 0.7565 - val_loss: 0.5649 - val_acc: 0.7763\n",
      "Epoch 5/10\n",
      "55000/55000 [==============================] - 31s 560us/step - loss: 0.6061 - acc: 0.7686 - val_loss: 0.5408 - val_acc: 0.7904\n",
      "Epoch 6/10\n",
      "55000/55000 [==============================] - 31s 572us/step - loss: 0.5847 - acc: 0.7773 - val_loss: 0.5197 - val_acc: 0.8088\n",
      "Epoch 7/10\n",
      "55000/55000 [==============================] - 31s 567us/step - loss: 0.5679 - acc: 0.7857 - val_loss: 0.5031 - val_acc: 0.8127\n",
      "Epoch 8/10\n",
      "55000/55000 [==============================] - 31s 561us/step - loss: 0.5536 - acc: 0.7907 - val_loss: 0.4817 - val_acc: 0.8172\n",
      "Epoch 9/10\n",
      "55000/55000 [==============================] - 32s 574us/step - loss: 0.5378 - acc: 0.7989 - val_loss: 0.4781 - val_acc: 0.8208\n",
      "Epoch 10/10\n",
      "55000/55000 [==============================] - 30s 554us/step - loss: 0.5291 - acc: 0.8008 - val_loss: 0.4669 - val_acc: 0.8257\n"
     ]
    }
   ],
   "source": [
    "model.fit(X_train, y_train,\n",
    "          batch_size=50,\n",
    "          epochs=10,\n",
    "          verbose=1,\n",
    "          validation_data=(X_test, y_test))\n",
    "score = model.evaluate(X_test, y_test, verbose=0)\n",
    "model.save_weights('my_model_weights.h5')"
   ]
  },
  {
   "cell_type": "code",
   "execution_count": 8,
   "metadata": {},
   "outputs": [
    {
     "name": "stdout",
     "output_type": "stream",
     "text": [
      "accuracy:  0.8257\n",
      "loss:  0.466920206881\n"
     ]
    }
   ],
   "source": [
    "print('accuracy: ',score[1])\n",
    "print('loss: ',score[0])"
   ]
  },
  {
   "cell_type": "code",
   "execution_count": 9,
   "metadata": {},
   "outputs": [
    {
     "name": "stdout",
     "output_type": "stream",
     "text": [
      "[0.46692020688056945, 0.82569999999999999]\n"
     ]
    }
   ],
   "source": [
    "print(score)"
   ]
  },
  {
   "cell_type": "code",
   "execution_count": 10,
   "metadata": {},
   "outputs": [
    {
     "name": "stdout",
     "output_type": "stream",
     "text": [
      "(6500, 28, 28, 1)\n",
      "共6500张图片\n"
     ]
    }
   ],
   "source": [
    "model.save(\"weights_input.h5\")\n",
    "from keras.models import load_model\n",
    "model_l = load_model(r\"./weights_input.h5\")\n",
    "import read_image\n",
    "data = read_image.Dataset()   "
   ]
  },
  {
   "cell_type": "code",
   "execution_count": 11,
   "metadata": {},
   "outputs": [],
   "source": [
    "prediction = model_l.predict(data.images)"
   ]
  },
  {
   "cell_type": "code",
   "execution_count": 12,
   "metadata": {},
   "outputs": [],
   "source": [
    "with open(\"PengZheng.txt\", \"w\") as f:\n",
    "    for i in range(prediction.shape[0]):\n",
    "        f.write(str(np.argmax(prediction[i])))\n",
    "        if i != 6499:\n",
    "            f.write(\"\\n\")"
   ]
  },
  {
   "cell_type": "code",
   "execution_count": 13,
   "metadata": {},
   "outputs": [],
   "source": [
    "res = []\n",
    "with open(\"PengZheng.txt\", \"r\") as f:\n",
    "    for i in range(6500):\n",
    "        res.append(int(f.readline()))\n",
    "labels = []\n",
    "with open(\"../../../test_label.txt\", \"r\") as f:\n",
    "    for i in range(6500):\n",
    "        labels.append(int(f.readline()))"
   ]
  },
  {
   "cell_type": "code",
   "execution_count": 14,
   "metadata": {},
   "outputs": [
    {
     "data": {
      "text/plain": [
       "0.74030769230769233"
      ]
     },
     "execution_count": 14,
     "metadata": {},
     "output_type": "execute_result"
    }
   ],
   "source": [
    "import numpy as np\n",
    "sum(np.array(res) == np.array(labels)) / len(res)"
   ]
  },
  {
   "cell_type": "code",
   "execution_count": null,
   "metadata": {},
   "outputs": [],
   "source": []
  }
 ],
 "metadata": {
  "kernelspec": {
   "display_name": "Python 3",
   "language": "python",
   "name": "python3"
  },
  "language_info": {
   "codemirror_mode": {
    "name": "ipython",
    "version": 3
   },
   "file_extension": ".py",
   "mimetype": "text/x-python",
   "name": "python",
   "nbconvert_exporter": "python",
   "pygments_lexer": "ipython3",
   "version": "3.5.2"
  }
 },
 "nbformat": 4,
 "nbformat_minor": 2
}
