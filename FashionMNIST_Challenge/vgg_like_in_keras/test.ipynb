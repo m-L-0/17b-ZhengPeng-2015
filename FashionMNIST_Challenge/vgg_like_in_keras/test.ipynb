{
 "cells": [
  {
   "cell_type": "code",
   "execution_count": 1,
   "metadata": {},
   "outputs": [
    {
     "name": "stdout",
     "output_type": "stream",
     "text": [
      "fashion-mnist_test.csv\n",
      "fashion-mnist_train.csv.tar.gz\n",
      "\n"
     ]
    }
   ],
   "source": [
    "import numpy as np # linear algebra\n",
    "import pandas as pd # data processing, CSV file I/O (e.g. pd.read_csv)\n",
    "from subprocess import check_output\n",
    "print(check_output([\"ls\", \"../MNIST_data/fashion_csv/\"]).decode(\"utf8\"))"
   ]
  },
  {
   "cell_type": "code",
   "execution_count": 2,
   "metadata": {},
   "outputs": [
    {
     "name": "stderr",
     "output_type": "stream",
     "text": [
      "Using TensorFlow backend.\n"
     ]
    }
   ],
   "source": [
    "from keras.utils import to_categorical\n",
    "import gzip\n",
    "import pandas as pd\n",
    "import os\n",
    "\n",
    "\n",
    "# 完整的csv格式的训练集太大, 无法上传至github, 因此保存压缩文件, 在此解压缩并写入同名csv.\n",
    "train_file = gzip.GzipFile(\"../MNIST_data/fashion_csv/fashion-mnist_train.csv.tar.gz\", \"r\")\n",
    "with open(\"../MNIST_data/fashion_csv/fashion-mnist_train.csv\", 'wb') as f:\n",
    "    f.write(train_file.read())\n",
    "data_train = pd.read_csv('../MNIST_data/fashion_csv/fashion-mnist_train.csv')\n",
    "data_train = data_train.drop(index=len(data_train.iloc[:, 0])-1) # 不知为什么, 最后一行全为nan, 因此删去末行.\n",
    "os.remove('../MNIST_data/fashion_csv/fashion-mnist_train.csv')\n",
    "data_test = pd.read_csv('../MNIST_data/fashion_csv/fashion-mnist_test.csv')\n",
    "\n",
    "# from tensorflow.examples.tutorials.mnist import input_data\n",
    "# mnist = input_data.read_data_sets(\"../MNIST_data/fashion/\", one_hot=True)\n",
    "# X_train, y_train = mnist.train.images, mnist.train.labels\n",
    "# X_test, y_test = mnist.test.images, mnist.test.labels"
   ]
  },
  {
   "cell_type": "code",
   "execution_count": 3,
   "metadata": {},
   "outputs": [],
   "source": [
    "X_train = np.array(data_train.iloc[:, 1:])\n",
    "X_test = np.array(data_test.iloc[:, 1:])\n",
    "y_train = to_categorical(np.array(data_train.iloc[:, 0]))\n",
    "y_test = to_categorical(np.array(data_test.iloc[:, 0]))\n",
    "\n",
    "\n",
    "img_rows, img_cols = 28, 28\n",
    "X_train = X_train.reshape(X_train.shape[0], img_rows, img_cols, 1)\n",
    "X_test = X_test.reshape(X_test.shape[0], img_rows, img_cols, 1)\n",
    "input_shape = (img_rows, img_cols, 1)\n",
    "\n",
    "X_train = X_train.astype('float32')\n",
    "X_test = X_test.astype('float32')\n",
    "X_train /= 255\n",
    "X_test /= 255"
   ]
  },
  {
   "cell_type": "code",
   "execution_count": 6,
   "metadata": {},
   "outputs": [],
   "source": [
    "from keras.models import Sequential\n",
    "from keras.layers import Dense, Activation, Dropout, Flatten, Conv2D, MaxPooling2D\n",
    "\n",
    "input_shape = (img_rows, img_cols, 1)\n",
    "model = Sequential()\n",
    "model.add(Conv2D(32, kernel_size=(3, 3),\n",
    "                 activation='relu',\n",
    "                 input_shape=input_shape))\n",
    "model.add(MaxPooling2D(pool_size=(2, 2)))\n",
    "model.add(Dropout(0.25))\n",
    "model.add(Conv2D(64, (3, 3), activation='relu'))\n",
    "model.add(MaxPooling2D(pool_size=(2, 2)))\n",
    "model.add(Dropout(0.25))\n",
    "model.add(Flatten())\n",
    "model.add(Dense(250, activation='relu'))\n",
    "model.add(Dropout(0.5))\n",
    "model.add(Dense(10, activation='softmax'))\n",
    "model.compile(optimizer='adam',\n",
    "          loss='categorical_crossentropy',\n",
    "          metrics=['accuracy'])"
   ]
  },
  {
   "cell_type": "code",
   "execution_count": 7,
   "metadata": {},
   "outputs": [
    {
     "name": "stdout",
     "output_type": "stream",
     "text": [
      "_________________________________________________________________\n",
      "Layer (type)                 Output Shape              Param #   \n",
      "=================================================================\n",
      "conv2d_5 (Conv2D)            (None, 26, 26, 32)        320       \n",
      "_________________________________________________________________\n",
      "max_pooling2d_5 (MaxPooling2 (None, 13, 13, 32)        0         \n",
      "_________________________________________________________________\n",
      "dropout_7 (Dropout)          (None, 13, 13, 32)        0         \n",
      "_________________________________________________________________\n",
      "conv2d_6 (Conv2D)            (None, 11, 11, 64)        18496     \n",
      "_________________________________________________________________\n",
      "max_pooling2d_6 (MaxPooling2 (None, 5, 5, 64)          0         \n",
      "_________________________________________________________________\n",
      "dropout_8 (Dropout)          (None, 5, 5, 64)          0         \n",
      "_________________________________________________________________\n",
      "flatten_3 (Flatten)          (None, 1600)              0         \n",
      "_________________________________________________________________\n",
      "dense_5 (Dense)              (None, 250)               400250    \n",
      "_________________________________________________________________\n",
      "dropout_9 (Dropout)          (None, 250)               0         \n",
      "_________________________________________________________________\n",
      "dense_6 (Dense)              (None, 10)                2510      \n",
      "=================================================================\n",
      "Total params: 421,576\n",
      "Trainable params: 421,576\n",
      "Non-trainable params: 0\n",
      "_________________________________________________________________\n"
     ]
    }
   ],
   "source": [
    "model.summary()"
   ]
  },
  {
   "cell_type": "code",
   "execution_count": 8,
   "metadata": {},
   "outputs": [
    {
     "name": "stdout",
     "output_type": "stream",
     "text": [
      "Train on 60000 samples, validate on 10000 samples\n",
      "Epoch 1/60\n",
      "60000/60000 [==============================] - 47s 787us/step - loss: 0.5862 - acc: 0.7856 - val_loss: 0.3691 - val_acc: 0.8655\n",
      "Epoch 2/60\n",
      "60000/60000 [==============================] - 34s 565us/step - loss: 0.4003 - acc: 0.8543 - val_loss: 0.3127 - val_acc: 0.8838\n",
      "Epoch 3/60\n",
      "60000/60000 [==============================] - 34s 568us/step - loss: 0.3548 - acc: 0.8717 - val_loss: 0.2858 - val_acc: 0.8930\n",
      "Epoch 4/60\n",
      "60000/60000 [==============================] - 34s 570us/step - loss: 0.3243 - acc: 0.8814 - val_loss: 0.2560 - val_acc: 0.9062\n",
      "Epoch 5/60\n",
      "60000/60000 [==============================] - 35s 577us/step - loss: 0.3031 - acc: 0.8896 - val_loss: 0.2717 - val_acc: 0.8947\n",
      "Epoch 6/60\n",
      "60000/60000 [==============================] - 35s 575us/step - loss: 0.2910 - acc: 0.8940 - val_loss: 0.2484 - val_acc: 0.9077\n",
      "Epoch 7/60\n",
      "60000/60000 [==============================] - 34s 575us/step - loss: 0.2795 - acc: 0.8960 - val_loss: 0.2426 - val_acc: 0.9088\n",
      "Epoch 8/60\n",
      "60000/60000 [==============================] - 35s 578us/step - loss: 0.2699 - acc: 0.8994 - val_loss: 0.2292 - val_acc: 0.9161\n",
      "Epoch 9/60\n",
      "60000/60000 [==============================] - 35s 578us/step - loss: 0.2633 - acc: 0.9020 - val_loss: 0.2197 - val_acc: 0.9191\n",
      "Epoch 10/60\n",
      "60000/60000 [==============================] - 35s 579us/step - loss: 0.2528 - acc: 0.9061 - val_loss: 0.2354 - val_acc: 0.9137\n",
      "Epoch 11/60\n",
      "60000/60000 [==============================] - 35s 579us/step - loss: 0.2509 - acc: 0.9067 - val_loss: 0.2147 - val_acc: 0.9194\n",
      "Epoch 12/60\n",
      "60000/60000 [==============================] - 35s 580us/step - loss: 0.2441 - acc: 0.9089 - val_loss: 0.2312 - val_acc: 0.9135\n",
      "Epoch 13/60\n",
      "60000/60000 [==============================] - 35s 579us/step - loss: 0.2380 - acc: 0.9100 - val_loss: 0.2196 - val_acc: 0.9191\n",
      "Epoch 14/60\n",
      "60000/60000 [==============================] - 35s 584us/step - loss: 0.2345 - acc: 0.9127 - val_loss: 0.2087 - val_acc: 0.9239\n",
      "Epoch 15/60\n",
      "60000/60000 [==============================] - 35s 583us/step - loss: 0.2305 - acc: 0.9137 - val_loss: 0.2068 - val_acc: 0.9239\n",
      "Epoch 16/60\n",
      "60000/60000 [==============================] - 36s 596us/step - loss: 0.2241 - acc: 0.9162 - val_loss: 0.2100 - val_acc: 0.9221\n",
      "Epoch 17/60\n",
      "60000/60000 [==============================] - 35s 577us/step - loss: 0.2286 - acc: 0.9139 - val_loss: 0.2004 - val_acc: 0.9290\n",
      "Epoch 18/60\n",
      "60000/60000 [==============================] - 35s 580us/step - loss: 0.2227 - acc: 0.9169 - val_loss: 0.2148 - val_acc: 0.9207\n",
      "Epoch 19/60\n",
      "60000/60000 [==============================] - 35s 585us/step - loss: 0.2179 - acc: 0.9191 - val_loss: 0.2243 - val_acc: 0.9164\n",
      "Epoch 20/60\n",
      "60000/60000 [==============================] - 34s 572us/step - loss: 0.2147 - acc: 0.9189 - val_loss: 0.2040 - val_acc: 0.9236\n",
      "Epoch 21/60\n",
      "60000/60000 [==============================] - 32s 531us/step - loss: 0.2130 - acc: 0.9193 - val_loss: 0.1997 - val_acc: 0.9242\n",
      "Epoch 22/60\n",
      "60000/60000 [==============================] - 32s 527us/step - loss: 0.2076 - acc: 0.9197 - val_loss: 0.1998 - val_acc: 0.9276\n",
      "Epoch 23/60\n",
      "60000/60000 [==============================] - 34s 560us/step - loss: 0.2073 - acc: 0.9222 - val_loss: 0.2043 - val_acc: 0.9260\n",
      "Epoch 24/60\n",
      "60000/60000 [==============================] - 32s 537us/step - loss: 0.2066 - acc: 0.9225 - val_loss: 0.2209 - val_acc: 0.9197\n",
      "Epoch 25/60\n",
      "60000/60000 [==============================] - 32s 540us/step - loss: 0.2009 - acc: 0.9241 - val_loss: 0.2049 - val_acc: 0.9245\n",
      "Epoch 26/60\n",
      "60000/60000 [==============================] - 33s 545us/step - loss: 0.2010 - acc: 0.9230 - val_loss: 0.1975 - val_acc: 0.9300\n",
      "Epoch 27/60\n",
      "60000/60000 [==============================] - 33s 549us/step - loss: 0.2008 - acc: 0.9237 - val_loss: 0.1979 - val_acc: 0.9288\n",
      "Epoch 28/60\n",
      "60000/60000 [==============================] - 32s 534us/step - loss: 0.1971 - acc: 0.9249 - val_loss: 0.2148 - val_acc: 0.9226\n",
      "Epoch 29/60\n",
      "60000/60000 [==============================] - 32s 537us/step - loss: 0.1949 - acc: 0.9263 - val_loss: 0.2049 - val_acc: 0.9277\n",
      "Epoch 30/60\n",
      "60000/60000 [==============================] - 32s 533us/step - loss: 0.1912 - acc: 0.9267 - val_loss: 0.1987 - val_acc: 0.9278\n",
      "Epoch 31/60\n",
      "60000/60000 [==============================] - 34s 560us/step - loss: 0.1876 - acc: 0.9290 - val_loss: 0.1957 - val_acc: 0.9327\n",
      "Epoch 32/60\n",
      "60000/60000 [==============================] - 34s 573us/step - loss: 0.1902 - acc: 0.9277 - val_loss: 0.2011 - val_acc: 0.9296\n",
      "Epoch 33/60\n",
      "60000/60000 [==============================] - 36s 592us/step - loss: 0.1881 - acc: 0.9289 - val_loss: 0.2022 - val_acc: 0.9279\n",
      "Epoch 34/60\n",
      "60000/60000 [==============================] - 32s 533us/step - loss: 0.1857 - acc: 0.9293 - val_loss: 0.2010 - val_acc: 0.9297\n",
      "Epoch 35/60\n",
      "60000/60000 [==============================] - 34s 566us/step - loss: 0.1859 - acc: 0.9287 - val_loss: 0.2060 - val_acc: 0.9288\n",
      "Epoch 36/60\n",
      "60000/60000 [==============================] - 34s 559us/step - loss: 0.1842 - acc: 0.9300 - val_loss: 0.2026 - val_acc: 0.9281\n",
      "Epoch 37/60\n",
      "60000/60000 [==============================] - 35s 587us/step - loss: 0.1858 - acc: 0.9296 - val_loss: 0.1988 - val_acc: 0.9308\n",
      "Epoch 38/60\n",
      "60000/60000 [==============================] - 34s 575us/step - loss: 0.1814 - acc: 0.9311 - val_loss: 0.2040 - val_acc: 0.9286\n",
      "Epoch 39/60\n",
      "60000/60000 [==============================] - 32s 527us/step - loss: 0.1818 - acc: 0.9314 - val_loss: 0.1998 - val_acc: 0.9302\n",
      "Epoch 40/60\n",
      "60000/60000 [==============================] - 32s 527us/step - loss: 0.1807 - acc: 0.9326 - val_loss: 0.2114 - val_acc: 0.9270\n",
      "Epoch 41/60\n",
      "60000/60000 [==============================] - 32s 527us/step - loss: 0.1791 - acc: 0.9320 - val_loss: 0.2216 - val_acc: 0.9231\n",
      "Epoch 42/60\n",
      "60000/60000 [==============================] - 32s 531us/step - loss: 0.1772 - acc: 0.9329 - val_loss: 0.2134 - val_acc: 0.9250\n",
      "Epoch 43/60\n",
      "60000/60000 [==============================] - 32s 527us/step - loss: 0.1768 - acc: 0.9322 - val_loss: 0.2044 - val_acc: 0.9279\n",
      "Epoch 44/60\n",
      "60000/60000 [==============================] - 32s 527us/step - loss: 0.1753 - acc: 0.9324 - val_loss: 0.2206 - val_acc: 0.9260\n",
      "Epoch 45/60\n",
      "60000/60000 [==============================] - 32s 527us/step - loss: 0.1786 - acc: 0.9328 - val_loss: 0.2035 - val_acc: 0.9275\n",
      "Epoch 46/60\n",
      "60000/60000 [==============================] - 32s 526us/step - loss: 0.1728 - acc: 0.9337 - val_loss: 0.2132 - val_acc: 0.9248\n",
      "Epoch 47/60\n",
      "60000/60000 [==============================] - 32s 527us/step - loss: 0.1752 - acc: 0.9333 - val_loss: 0.2049 - val_acc: 0.9307\n",
      "Epoch 48/60\n",
      "60000/60000 [==============================] - 32s 536us/step - loss: 0.1725 - acc: 0.9347 - val_loss: 0.2118 - val_acc: 0.9272\n",
      "Epoch 49/60\n",
      "60000/60000 [==============================] - 34s 565us/step - loss: 0.1722 - acc: 0.9341 - val_loss: 0.2057 - val_acc: 0.9279\n",
      "Epoch 50/60\n",
      "60000/60000 [==============================] - 34s 567us/step - loss: 0.1724 - acc: 0.9340 - val_loss: 0.1989 - val_acc: 0.9303\n",
      "Epoch 51/60\n",
      "60000/60000 [==============================] - 32s 541us/step - loss: 0.1701 - acc: 0.9350 - val_loss: 0.1979 - val_acc: 0.9310\n",
      "Epoch 52/60\n",
      "60000/60000 [==============================] - 32s 531us/step - loss: 0.1686 - acc: 0.9360 - val_loss: 0.2020 - val_acc: 0.9324\n",
      "Epoch 53/60\n",
      "60000/60000 [==============================] - 32s 541us/step - loss: 0.1667 - acc: 0.9372 - val_loss: 0.2061 - val_acc: 0.9298\n",
      "Epoch 54/60\n",
      "60000/60000 [==============================] - 39s 650us/step - loss: 0.1707 - acc: 0.9339 - val_loss: 0.2096 - val_acc: 0.9306\n",
      "Epoch 55/60\n",
      "60000/60000 [==============================] - 38s 642us/step - loss: 0.1699 - acc: 0.9364 - val_loss: 0.2058 - val_acc: 0.9301\n",
      "Epoch 56/60\n",
      "60000/60000 [==============================] - 37s 623us/step - loss: 0.1657 - acc: 0.9378 - val_loss: 0.2054 - val_acc: 0.9297\n",
      "Epoch 57/60\n",
      "60000/60000 [==============================] - 36s 607us/step - loss: 0.1626 - acc: 0.9380 - val_loss: 0.2076 - val_acc: 0.9300\n",
      "Epoch 58/60\n",
      "60000/60000 [==============================] - 37s 615us/step - loss: 0.1685 - acc: 0.9364 - val_loss: 0.2064 - val_acc: 0.9285\n",
      "Epoch 59/60\n"
     ]
    },
    {
     "name": "stdout",
     "output_type": "stream",
     "text": [
      "60000/60000 [==============================] - 40s 662us/step - loss: 0.1662 - acc: 0.9366 - val_loss: 0.2015 - val_acc: 0.9290\n",
      "Epoch 60/60\n",
      "60000/60000 [==============================] - 37s 624us/step - loss: 0.1640 - acc: 0.9388 - val_loss: 0.2102 - val_acc: 0.9288\n"
     ]
    }
   ],
   "source": [
    "model.fit(X_train, y_train,\n",
    "          batch_size=50,\n",
    "          epochs=60,\n",
    "          verbose=1,\n",
    "          validation_data=(X_test, y_test))\n",
    "score = model.evaluate(X_test, y_test, verbose=0)\n",
    "model.save_weights('my_model_weights.h5')"
   ]
  },
  {
   "cell_type": "code",
   "execution_count": 16,
   "metadata": {},
   "outputs": [
    {
     "name": "stdout",
     "output_type": "stream",
     "text": [
      "accuracy:  0.9288\n",
      "loss:  0.21016990533\n"
     ]
    }
   ],
   "source": [
    "print('accuracy: ',score[1])\n",
    "print('loss: ',score[0])"
   ]
  },
  {
   "cell_type": "code",
   "execution_count": 10,
   "metadata": {},
   "outputs": [
    {
     "name": "stdout",
     "output_type": "stream",
     "text": [
      "[0.21016990533024071, 0.92879999999999996]\n"
     ]
    }
   ],
   "source": [
    "print(score)"
   ]
  },
  {
   "cell_type": "code",
   "execution_count": 11,
   "metadata": {},
   "outputs": [
    {
     "name": "stdout",
     "output_type": "stream",
     "text": [
      "(6500, 28, 28, 1)\n",
      "共6500张图片\n"
     ]
    }
   ],
   "source": [
    "model.save(\"weights_input.h5\")\n",
    "from keras.models import load_model\n",
    "model_l = load_model(r\"./weights_input.h5\")\n",
    "import read_image\n",
    "data = read_image.Dataset()   "
   ]
  },
  {
   "cell_type": "code",
   "execution_count": 17,
   "metadata": {},
   "outputs": [],
   "source": [
    "prediction = model.predict(data.images)"
   ]
  },
  {
   "cell_type": "code",
   "execution_count": 18,
   "metadata": {},
   "outputs": [],
   "source": [
    "with open(\"PengZheng.txt\", \"w\") as f:\n",
    "    for i in range(prediction.shape[0]):\n",
    "        f.write(str(np.argmax(prediction[i])))\n",
    "        if i != 6499:\n",
    "            f.write(\"\\n\")"
   ]
  },
  {
   "cell_type": "code",
   "execution_count": 19,
   "metadata": {},
   "outputs": [],
   "source": [
    "res = []\n",
    "with open(\"PengZheng.txt\", \"r\") as f:\n",
    "    for i in range(6500):\n",
    "        res.append(int(f.readline()))\n",
    "labels = []\n",
    "with open(\"../../../test_label.txt\", \"r\") as f:\n",
    "    for i in range(6500):\n",
    "        labels.append(int(f.readline()))"
   ]
  },
  {
   "cell_type": "code",
   "execution_count": 20,
   "metadata": {},
   "outputs": [
    {
     "data": {
      "text/plain": [
       "0.78476923076923077"
      ]
     },
     "execution_count": 20,
     "metadata": {},
     "output_type": "execute_result"
    }
   ],
   "source": [
    "import numpy as np\n",
    "sum(np.array(res) == np.array(labels)) / len(res)"
   ]
  },
  {
   "cell_type": "code",
   "execution_count": null,
   "metadata": {},
   "outputs": [],
   "source": []
  }
 ],
 "metadata": {
  "kernelspec": {
   "display_name": "Python 3",
   "language": "python",
   "name": "python3"
  },
  "language_info": {
   "codemirror_mode": {
    "name": "ipython",
    "version": 3
   },
   "file_extension": ".py",
   "mimetype": "text/x-python",
   "name": "python",
   "nbconvert_exporter": "python",
   "pygments_lexer": "ipython3",
   "version": "3.5.2"
  }
 },
 "nbformat": 4,
 "nbformat_minor": 2
}
