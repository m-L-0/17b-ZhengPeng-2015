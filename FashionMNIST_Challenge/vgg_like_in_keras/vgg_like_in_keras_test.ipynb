{
 "cells": [
  {
   "cell_type": "code",
   "execution_count": 1,
   "metadata": {},
   "outputs": [
    {
     "name": "stdout",
     "output_type": "stream",
     "text": [
      "fashion-mnist_test.csv\n",
      "fashion-mnist_train.csv.tar.gz\n",
      "\n"
     ]
    }
   ],
   "source": [
    "import numpy as np # linear algebra\n",
    "import pandas as pd # data processing, CSV file I/O (e.g. pd.read_csv)\n",
    "from subprocess import check_output\n",
    "print(check_output([\"ls\", \"../MNIST_data/fashion_csv/\"]).decode(\"utf8\"))"
   ]
  },
  {
   "cell_type": "code",
   "execution_count": 2,
   "metadata": {},
   "outputs": [
    {
     "name": "stderr",
     "output_type": "stream",
     "text": [
      "Using TensorFlow backend.\n"
     ]
    }
   ],
   "source": [
    "from keras.utils import to_categorical\n",
    "import gzip\n",
    "import pandas as pd\n",
    "import os\n",
    "\n",
    "\n",
    "# 完整的csv格式的训练集太大, 无法上传至github, 因此保存压缩文件, 在此解压缩并写入同名csv.\n",
    "train_file = gzip.GzipFile(\"../MNIST_data/fashion_csv/fashion-mnist_train.csv.tar.gz\", \"r\")\n",
    "with open(\"../MNIST_data/fashion_csv/fashion-mnist_train.csv\", 'wb') as f:\n",
    "    f.write(train_file.read())\n",
    "data_train = pd.read_csv('../MNIST_data/fashion_csv/fashion-mnist_train.csv')\n",
    "data_train = data_train.drop(index=len(data_train.iloc[:, 0])-1) # 不知为什么, 最后一行全为nan, 因此删去末行.\n",
    "os.remove('../MNIST_data/fashion_csv/fashion-mnist_train.csv')\n",
    "data_test = pd.read_csv('../MNIST_data/fashion_csv/fashion-mnist_test.csv')"
   ]
  },
  {
   "cell_type": "code",
   "execution_count": 3,
   "metadata": {},
   "outputs": [],
   "source": [
    "X_train = np.array(data_train.iloc[:, 1:])\n",
    "X_test = np.array(data_test.iloc[:, 1:])\n",
    "y_train = to_categorical(np.array(data_train.iloc[:, 0]))\n",
    "y_test = to_categorical(np.array(data_test.iloc[:, 0]))\n",
    "\n",
    "\n",
    "img_rows, img_cols = 28, 28\n",
    "X_train = X_train.reshape(X_train.shape[0], img_rows, img_cols, 1)\n",
    "X_test = X_test.reshape(X_test.shape[0], img_rows, img_cols, 1)\n",
    "input_shape = (img_rows, img_cols, 1)\n",
    "\n",
    "X_train = X_train.astype('float32')\n",
    "X_test = X_test.astype('float32')\n",
    "X_train /= 255\n",
    "X_test /= 255"
   ]
  },
  {
   "cell_type": "code",
   "execution_count": 4,
   "metadata": {},
   "outputs": [],
   "source": [
    "from keras.models import Sequential\n",
    "from keras.layers import Dense, Activation, Dropout, Flatten, Conv2D, MaxPooling2D\n",
    "\n",
    "input_shape = (img_rows, img_cols, 1)\n",
    "model = Sequential()\n",
    "model.add(Conv2D(32, kernel_size=(3, 3),\n",
    "                 activation='relu',\n",
    "                 input_shape=input_shape))\n",
    "model.add(MaxPooling2D(pool_size=(2, 2)))\n",
    "model.add(Dropout(0.25))\n",
    "model.add(Conv2D(64, (3, 3), activation='relu'))\n",
    "model.add(MaxPooling2D(pool_size=(2, 2)))\n",
    "model.add(Dropout(0.25))\n",
    "model.add(Flatten())\n",
    "model.add(Dense(250, activation='relu'))\n",
    "model.add(Dropout(0.5))\n",
    "model.add(Dense(10, activation='softmax'))\n",
    "model.compile(optimizer='adam',\n",
    "          loss='categorical_crossentropy',\n",
    "          metrics=['accuracy'])"
   ]
  },
  {
   "cell_type": "code",
   "execution_count": 5,
   "metadata": {},
   "outputs": [
    {
     "name": "stdout",
     "output_type": "stream",
     "text": [
      "_________________________________________________________________\n",
      "Layer (type)                 Output Shape              Param #   \n",
      "=================================================================\n",
      "conv2d_1 (Conv2D)            (None, 26, 26, 32)        320       \n",
      "_________________________________________________________________\n",
      "max_pooling2d_1 (MaxPooling2 (None, 13, 13, 32)        0         \n",
      "_________________________________________________________________\n",
      "dropout_1 (Dropout)          (None, 13, 13, 32)        0         \n",
      "_________________________________________________________________\n",
      "conv2d_2 (Conv2D)            (None, 11, 11, 64)        18496     \n",
      "_________________________________________________________________\n",
      "max_pooling2d_2 (MaxPooling2 (None, 5, 5, 64)          0         \n",
      "_________________________________________________________________\n",
      "dropout_2 (Dropout)          (None, 5, 5, 64)          0         \n",
      "_________________________________________________________________\n",
      "flatten_1 (Flatten)          (None, 1600)              0         \n",
      "_________________________________________________________________\n",
      "dense_1 (Dense)              (None, 250)               400250    \n",
      "_________________________________________________________________\n",
      "dropout_3 (Dropout)          (None, 250)               0         \n",
      "_________________________________________________________________\n",
      "dense_2 (Dense)              (None, 10)                2510      \n",
      "=================================================================\n",
      "Total params: 421,576\n",
      "Trainable params: 421,576\n",
      "Non-trainable params: 0\n",
      "_________________________________________________________________\n"
     ]
    }
   ],
   "source": [
    "model.summary()"
   ]
  },
  {
   "cell_type": "code",
   "execution_count": 6,
   "metadata": {},
   "outputs": [
    {
     "name": "stdout",
     "output_type": "stream",
     "text": [
      "Train on 60000 samples, validate on 10000 samples\n",
      "Epoch 1/10\n",
      "60000/60000 [==============================] - 46s 775us/step - loss: 0.5796 - acc: 0.7863 - val_loss: 0.3788 - val_acc: 0.8668\n",
      "Epoch 2/10\n",
      "60000/60000 [==============================] - 36s 600us/step - loss: 0.3942 - acc: 0.8564 - val_loss: 0.3023 - val_acc: 0.8890\n",
      "Epoch 3/10\n",
      "60000/60000 [==============================] - 34s 564us/step - loss: 0.3455 - acc: 0.8740 - val_loss: 0.2764 - val_acc: 0.8979\n",
      "Epoch 4/10\n",
      "60000/60000 [==============================] - 33s 558us/step - loss: 0.3178 - acc: 0.8835 - val_loss: 0.2668 - val_acc: 0.9019\n",
      "Epoch 5/10\n",
      "60000/60000 [==============================] - 34s 567us/step - loss: 0.3005 - acc: 0.8894 - val_loss: 0.2463 - val_acc: 0.9087\n",
      "Epoch 6/10\n",
      "60000/60000 [==============================] - 36s 600us/step - loss: 0.2828 - acc: 0.8947 - val_loss: 0.2387 - val_acc: 0.9128\n",
      "Epoch 7/10\n",
      "60000/60000 [==============================] - 36s 594us/step - loss: 0.2735 - acc: 0.8992 - val_loss: 0.2318 - val_acc: 0.9141\n",
      "Epoch 8/10\n",
      "60000/60000 [==============================] - 36s 596us/step - loss: 0.2652 - acc: 0.9011 - val_loss: 0.2489 - val_acc: 0.9034\n",
      "Epoch 9/10\n",
      "60000/60000 [==============================] - 36s 599us/step - loss: 0.2564 - acc: 0.9046 - val_loss: 0.2208 - val_acc: 0.9179\n",
      "Epoch 10/10\n",
      "60000/60000 [==============================] - 37s 614us/step - loss: 0.2537 - acc: 0.9059 - val_loss: 0.2115 - val_acc: 0.9232\n"
     ]
    }
   ],
   "source": [
    "model.fit(X_train, y_train,\n",
    "          batch_size=50,\n",
    "          epochs=10,\n",
    "          verbose=1,\n",
    "          validation_data=(X_test, y_test))\n",
    "score = model.evaluate(X_test, y_test, verbose=0)"
   ]
  },
  {
   "cell_type": "code",
   "execution_count": 7,
   "metadata": {},
   "outputs": [
    {
     "name": "stdout",
     "output_type": "stream",
     "text": [
      "accuracy:  0.9232\n",
      "loss:  0.211547868013\n"
     ]
    }
   ],
   "source": [
    "print('accuracy: ',score[1])\n",
    "print('loss: ',score[0])"
   ]
  },
  {
   "cell_type": "code",
   "execution_count": 5,
   "metadata": {},
   "outputs": [
    {
     "name": "stdout",
     "output_type": "stream",
     "text": [
      "Help on method evaluate in module keras.models:\n",
      "\n",
      "evaluate(x, y, batch_size=32, verbose=1, sample_weight=None) method of keras.models.Sequential instance\n",
      "    Computes the loss on some input data, batch by batch.\n",
      "    \n",
      "    # Arguments\n",
      "        x: input data, as a Numpy array or list of Numpy arrays\n",
      "            (if the model has multiple inputs).\n",
      "        y: labels, as a Numpy array.\n",
      "        batch_size: integer. Number of samples per gradient update.\n",
      "        verbose: verbosity mode, 0 or 1.\n",
      "        sample_weight: sample weights, as a Numpy array.\n",
      "    \n",
      "    # Returns\n",
      "        Scalar test loss (if the model has no metrics)\n",
      "        or list of scalars (if the model computes other metrics).\n",
      "        The attribute `model.metrics_names` will give you\n",
      "        the display labels for the scalar outputs.\n",
      "    \n",
      "    # Raises\n",
      "        RuntimeError: if the model was never compiled.\n",
      "\n"
     ]
    }
   ],
   "source": [
    "from keras.models import Sequential\n",
    "model = Sequential()\n",
    "help(model.evaluate)\n",
    "\"What's the score?\""
   ]
  },
  {
   "cell_type": "code",
   "execution_count": null,
   "metadata": {},
   "outputs": [],
   "source": []
  }
 ],
 "metadata": {
  "kernelspec": {
   "display_name": "Python 3",
   "language": "python",
   "name": "python3"
  },
  "language_info": {
   "codemirror_mode": {
    "name": "ipython",
    "version": 3
   },
   "file_extension": ".py",
   "mimetype": "text/x-python",
   "name": "python",
   "nbconvert_exporter": "python",
   "pygments_lexer": "ipython3",
   "version": "3.5.2"
  }
 },
 "nbformat": 4,
 "nbformat_minor": 2
}
